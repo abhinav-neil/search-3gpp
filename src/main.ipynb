{
 "cells": [
  {
   "cell_type": "markdown",
   "metadata": {},
   "source": [
    "# Document scanning tool"
   ]
  },
  {
   "cell_type": "markdown",
   "metadata": {},
   "source": [
    "## Setup"
   ]
  },
  {
   "cell_type": "markdown",
   "metadata": {},
   "source": [
    "### Setup env"
   ]
  },
  {
   "cell_type": "code",
   "execution_count": null,
   "metadata": {},
   "outputs": [],
   "source": [
    "# create env\n",
    "!conda create -n search-3gpp python==3.11\n",
    "# activate env\n",
    "!conda activate search-3gpp\n",
    "# install requirements\n",
    "!pip install -r requirements.txt"
   ]
  },
  {
   "cell_type": "markdown",
   "metadata": {},
   "source": [
    "### Install OS libraries"
   ]
  },
  {
   "cell_type": "code",
   "execution_count": null,
   "metadata": {},
   "outputs": [],
   "source": [
    "# For antiword\n",
    "!sudo apt-get install antiword\n",
    "\n",
    "# For Elasticsearch (assuming Debian/Ubuntu)\n",
    "!wget https://artifacts.elastic.co/downloads/elasticsearch/elasticsearch-7.10.0-amd64.deb\n",
    "!sudo apt-get update && sudo dpkg -i elasticsearch-7.10.0-amd64.deb"
   ]
  },
  {
   "cell_type": "markdown",
   "metadata": {},
   "source": [
    "### Imports"
   ]
  },
  {
   "cell_type": "code",
   "execution_count": 1,
   "metadata": {},
   "outputs": [],
   "source": [
    "import os\n",
    "import requests\n",
    "from bs4 import BeautifulSoup\n",
    "import argparse\n",
    "from elasticsearch import Elasticsearch\n",
    "from dl_docs import *\n",
    "from process_docs import *\n",
    "from inverse_index import *\n",
    "\n",
    "%load_ext autoreload\n",
    "%autoreload 2"
   ]
  },
  {
   "cell_type": "markdown",
   "metadata": {},
   "source": [
    "## Index & search"
   ]
  },
  {
   "cell_type": "markdown",
   "metadata": {},
   "source": [
    "### Download docs from 3gpp"
   ]
  },
  {
   "cell_type": "code",
   "execution_count": 2,
   "metadata": {},
   "outputs": [
    {
     "name": "stderr",
     "output_type": "stream",
     "text": [
      "  0%|          | 0/12 [00:02<?, ?it/s]\n"
     ]
    },
    {
     "name": "stdout",
     "output_type": "stream",
     "text": [
      "Max file limit reached. Returning 100 files.\n",
      "Downloading 100 files...\n"
     ]
    },
    {
     "name": "stderr",
     "output_type": "stream",
     "text": [
      "100%|██████████| 100/100 [02:39<00:00,  1.60s/it]"
     ]
    },
    {
     "name": "stdout",
     "output_type": "stream",
     "text": [
      "Done!\n"
     ]
    },
    {
     "name": "stderr",
     "output_type": "stream",
     "text": [
      "\n"
     ]
    }
   ],
   "source": [
    "url = 'https://www.3gpp.org/ftp/Specs/2023-06'  # URL of the webpage to be parsed\n",
    "\n",
    "# Download zip files\n",
    "download_docs_from_3gpp(url, save_dir='../data/downloaded_docs', max_files=100)\n",
    "# or from terminal\n",
    "# !python dl_docs.py --url 'https://www.3gpp.org/ftp/Specs/2023-06' --save_dir '../data/downloaded_docs' --max_files 100"
   ]
  },
  {
   "cell_type": "markdown",
   "metadata": {},
   "source": [
    "### Process docs"
   ]
  },
  {
   "cell_type": "code",
   "execution_count": 2,
   "metadata": {},
   "outputs": [
    {
     "name": "stderr",
     "output_type": "stream",
     "text": [
      "sh: 1: Syntax error: \"(\" unexpected\n"
     ]
    }
   ],
   "source": [
    "# extract text\n",
    "doc2txt(src_dir='../data/downloaded_docs', dst_dir='../data/raw_docs')\n",
    "# or from terminal\n",
    "# !python process_docs.py --src_dir ../data/downloaded_docs --dst_dir ../data/raw_docs"
   ]
  },
  {
   "cell_type": "markdown",
   "metadata": {},
   "source": [
    "### Create inverse index"
   ]
  },
  {
   "cell_type": "code",
   "execution_count": null,
   "metadata": {},
   "outputs": [],
   "source": [
    "# Start Elasticsearch\n",
    "!sudo service elasticsearch start"
   ]
  },
  {
   "cell_type": "code",
   "execution_count": 2,
   "metadata": {},
   "outputs": [
    {
     "name": "stdout",
     "output_type": "stream",
     "text": [
      "Indexed files to Elasticsearch.\n"
     ]
    }
   ],
   "source": [
    "# create elasticsearch object\n",
    "es = Elasticsearch(\"http://localhost:9200\")\n",
    "\n",
    "# Index the .txt files\n",
    "index_files_to_es(es, idx_name='3gpp_docs', docs_dir='../data/raw_docs')\n",
    "\n",
    "# or from terminal\n",
    "# !python inverse_index.py --idx_name 3gpp_docs --docs_dir ../data/raw_docs"
   ]
  },
  {
   "cell_type": "markdown",
   "metadata": {},
   "source": [
    "### Run flask app for searching index"
   ]
  },
  {
   "cell_type": "code",
   "execution_count": null,
   "metadata": {},
   "outputs": [],
   "source": [
    "!python app.py --doc_dir ../data/raw_docs"
   ]
  }
 ],
 "metadata": {
  "kernelspec": {
   "display_name": "docscan-philips",
   "language": "python",
   "name": "python3"
  },
  "language_info": {
   "codemirror_mode": {
    "name": "ipython",
    "version": 3
   },
   "file_extension": ".py",
   "mimetype": "text/x-python",
   "name": "python",
   "nbconvert_exporter": "python",
   "pygments_lexer": "ipython3",
   "version": "3.11.4"
  },
  "orig_nbformat": 4
 },
 "nbformat": 4,
 "nbformat_minor": 2
}
