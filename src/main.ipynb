{
 "cells": [
  {
   "cell_type": "markdown",
   "metadata": {},
   "source": [
    "# Document scanning tool"
   ]
  },
  {
   "cell_type": "markdown",
   "metadata": {},
   "source": [
    "### Imports"
   ]
  },
  {
   "cell_type": "code",
   "execution_count": 1,
   "metadata": {},
   "outputs": [],
   "source": [
    "import os\n",
    "import requests\n",
    "from bs4 import BeautifulSoup\n",
    "import argparse\n",
    "from elasticsearch import Elasticsearch\n",
    "from dl_docs import *\n",
    "from process_docs import *\n",
    "from inverse_index import *\n",
    "\n",
    "%load_ext autoreload\n",
    "%autoreload 2"
   ]
  },
  {
   "cell_type": "markdown",
   "metadata": {},
   "source": [
    "## Download docs from 3gpp"
   ]
  },
  {
   "cell_type": "code",
   "execution_count": 2,
   "metadata": {},
   "outputs": [
    {
     "name": "stderr",
     "output_type": "stream",
     "text": [
      "  0%|          | 0/12 [00:02<?, ?it/s]\n"
     ]
    },
    {
     "name": "stdout",
     "output_type": "stream",
     "text": [
      "Max file limit reached. Returning 100 files.\n",
      "Downloading 100 files...\n"
     ]
    },
    {
     "name": "stderr",
     "output_type": "stream",
     "text": [
      "100%|██████████| 100/100 [02:39<00:00,  1.60s/it]"
     ]
    },
    {
     "name": "stdout",
     "output_type": "stream",
     "text": [
      "Done!\n"
     ]
    },
    {
     "name": "stderr",
     "output_type": "stream",
     "text": [
      "\n"
     ]
    }
   ],
   "source": [
    "%%script false --no-raise-error\n",
    "url = 'https://www.3gpp.org/ftp/Specs/2023-06'  # URL of the webpage to be parsed\n",
    "\n",
    "# Download zip files\n",
    "download_docs_from_3gpp(url, max_files=100)"
   ]
  },
  {
   "cell_type": "markdown",
   "metadata": {},
   "source": [
    "## Create reverse index"
   ]
  },
  {
   "cell_type": "markdown",
   "metadata": {},
   "source": [
    "### Extract text from docs"
   ]
  },
  {
   "cell_type": "code",
   "execution_count": 2,
   "metadata": {},
   "outputs": [
    {
     "name": "stderr",
     "output_type": "stream",
     "text": [
      "sh: 1: Syntax error: \"(\" unexpected\n"
     ]
    }
   ],
   "source": [
    "%%script false --no-raise-error\n",
    "### Extract text from docs\n",
    "# extract text\n",
    "doc2txt()"
   ]
  },
  {
   "cell_type": "markdown",
   "metadata": {},
   "source": [
    "### Create inverse index"
   ]
  },
  {
   "cell_type": "code",
   "execution_count": 14,
   "metadata": {},
   "outputs": [],
   "source": [
    "# %%script false --no-raise-error\n",
    "# create elasticsearch object\n",
    "es = Elasticsearch(\"http://localhost:9200\")\n",
    "\n",
    "# Index the .txt files\n",
    "index_files_to_es(es)"
   ]
  },
  {
   "cell_type": "markdown",
   "metadata": {},
   "source": [
    "### Explore index"
   ]
  },
  {
   "cell_type": "code",
   "execution_count": null,
   "metadata": {},
   "outputs": [],
   "source": [
    "%%script false --no-raise-error\n",
    "# explore index\n",
    "indices = es.indices.get_alias(\"*\")\n",
    "for idx in indices:\n",
    "    print(idx)\n",
    "    \n",
    "index_name = \"3gpp_docs\"\n",
    "# retrieve docs from index\n",
    "# response = es.search(index=index_name, body={\"query\": {\"match_all\": {}}}, size=10)  # retrieve 10 documents\n",
    "\n",
    "# for hit in response[\"hits\"][\"hits\"]:\n",
    "    # print(hit[\"_source\"])  # print the source of the document\n",
    "\n",
    "# count documents in index\n",
    "doc_count = es.count(index=index_name)[\"count\"]\n",
    "print(f\"Total documents in {index_name}: {doc_count}\")\n",
    "\n",
    "# get mapping\n",
    "mapping = es.indices.get_mapping(index=index_name)\n",
    "print(mapping)\n",
    "\n",
    "# search for a term\n",
    "term = 'TS 22.101'\n",
    "response = es.search(index=index_name, body={\"query\": {\"match\": {\"content\": term}}})\n",
    "\n",
    "for hit in response[\"hits\"][\"hits\"]:\n",
    "    print(hit[\"_source\"]['filename'])\n"
   ]
  },
  {
   "cell_type": "markdown",
   "metadata": {},
   "source": [
    "### Search index"
   ]
  },
  {
   "cell_type": "code",
   "execution_count": 15,
   "metadata": {},
   "outputs": [
    {
     "name": "stdout",
     "output_type": "stream",
     "text": [
      "Filename: 21202-a31.txt, URL: file:///home/neil/docscan-philips/data/raw_docs/21202-a31.txt\n",
      "Filename: 22001-a00.txt, URL: file:///home/neil/docscan-philips/data/raw_docs/22001-a00.txt\n",
      "Filename: 22004-a00.txt, URL: file:///home/neil/docscan-philips/data/raw_docs/22004-a00.txt\n",
      "Filename: 22003-a00.txt, URL: file:///home/neil/docscan-philips/data/raw_docs/22003-a00.txt\n",
      "Filename: 22088-a00.txt, URL: file:///home/neil/docscan-philips/data/raw_docs/22088-a00.txt\n",
      "Filename: 22094-a00.txt, URL: file:///home/neil/docscan-philips/data/raw_docs/22094-a00.txt\n",
      "Filename: 22030-a00.txt, URL: file:///home/neil/docscan-philips/data/raw_docs/22030-a00.txt\n",
      "Filename: 22934-a00.txt, URL: file:///home/neil/docscan-philips/data/raw_docs/22934-a00.txt\n",
      "Filename: 22082-a00.txt, URL: file:///home/neil/docscan-philips/data/raw_docs/22082-a00.txt\n",
      "Filename: 22246-a00.txt, URL: file:///home/neil/docscan-philips/data/raw_docs/22246-a00.txt\n"
     ]
    }
   ],
   "source": [
    "term = 'TS 22.101'\n",
    "results = search_docs(es, term)\n",
    "for result in results:\n",
    "    print(f\"Filename: {result['filename']}, URL: {result['url']}\")"
   ]
  }
 ],
 "metadata": {
  "kernelspec": {
   "display_name": "docscan-philips",
   "language": "python",
   "name": "python3"
  },
  "language_info": {
   "codemirror_mode": {
    "name": "ipython",
    "version": 3
   },
   "file_extension": ".py",
   "mimetype": "text/x-python",
   "name": "python",
   "nbconvert_exporter": "python",
   "pygments_lexer": "ipython3",
   "version": "3.11.4"
  },
  "orig_nbformat": 4
 },
 "nbformat": 4,
 "nbformat_minor": 2
}
